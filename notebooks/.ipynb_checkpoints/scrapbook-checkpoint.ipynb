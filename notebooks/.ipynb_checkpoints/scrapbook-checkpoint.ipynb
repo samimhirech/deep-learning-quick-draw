{
 "cells": [
  {
   "cell_type": "markdown",
   "metadata": {
    "collapsed": true
   },
   "source": [
    "# Building a Neural Network to recognize Quick Draw doodles"
   ]
  },
  {
   "cell_type": "markdown",
   "metadata": {},
   "source": [
    "The general idea of this notebook will be to try and test the solutions provided by Google AI and other kagglers to the classification problem linked to the Quick Draw dataset."
   ]
  },
  {
   "cell_type": "markdown",
   "metadata": {},
   "source": [
    "## Google AI suggestion"
   ]
  },
  {
   "cell_type": "markdown",
   "metadata": {},
   "source": [
    "Building a Neural Network dataset introducting LSTM layers. Indeed, they want to take into account the notion of temporality by using layers that keep track of what happened before. They also do not want to use a Neural Network that would consider the input as an image by using 1D Convolutionnal Layers. It's worth a try ! "
   ]
  },
  {
   "cell_type": "markdown",
   "metadata": {},
   "source": [
    "Tutorial of Google AI's solution in Tensorflow right here : https://www.tensorflow.org/tutorials/sequences/recurrent_quickdraw"
   ]
  },
  {
   "cell_type": "markdown",
   "metadata": {},
   "source": [
    "## Considering the dataset as images only"
   ]
  },
  {
   "cell_type": "markdown",
   "metadata": {},
   "source": [
    "But here, we will try to work on a simpler idea which consists in interpreting the vectors of coordinates of the dataset as images only. Thus, we could use classical Neural Networks architectures that would consist in a succession of 2D Convolutionnal, Max Pooling and Flatten Layers then a FC layer."
   ]
  },
  {
   "cell_type": "markdown",
   "metadata": {},
   "source": [
    "Exemple of such a solution in Tensorflow here : https://www.kaggle.com/gaborfodor/black-white-cnn-lb-0-75/notebook"
   ]
  },
  {
   "cell_type": "markdown",
   "metadata": {},
   "source": [
    "## Loading packages"
   ]
  },
  {
   "cell_type": "code",
   "execution_count": 1,
   "metadata": {
    "collapsed": true
   },
   "outputs": [],
   "source": [
    "# To run only on Google Colab\n",
    "google_collab = False\n",
    "\n",
    "if google_collab:\n",
    "    from os.path import exists\n",
    "    from wheel.pep425tags import get_abbr_impl, get_impl_ver, get_abi_tag\n",
    "    platform = '{}{}-{}'.format(get_abbr_impl(), get_impl_ver(), get_abi_tag())\n",
    "    cuda_output = !ldconfig -p|grep cudart.so|sed -e 's/.*\\.\\([0-9]*\\)\\.\\([0-9]*\\)$/cu\\1\\2/'\n",
    "    accelerator = cuda_output[0] if exists('/dev/nvidia0') else 'cpu'\n",
    "\n",
    "    !pip install -q http://download.pytorch.org/whl/{accelerator}/torch-0.4.1-{platform}-linux_x86_64.whl torchvision\n",
    "    import torch\n",
    "\n",
    "    from google.colab import drive\n",
    "    drive.mount('/content/drive')"
   ]
  },
  {
   "cell_type": "code",
   "execution_count": 2,
   "metadata": {
    "collapsed": false
   },
   "outputs": [
    {
     "name": "stderr",
     "output_type": "stream",
     "text": [
      "Using TensorFlow backend.\n",
      "/Users/samimhirech/anaconda/lib/python3.6/importlib/_bootstrap.py:205: RuntimeWarning: compiletime version 3.5 of module 'tensorflow.python.framework.fast_tensor_util' does not match runtime version 3.6\n",
      "  return f(*args, **kwds)\n"
     ]
    }
   ],
   "source": [
    "import pandas as pd \n",
    "import numpy as np \n",
    "import ast\n",
    "import matplotlib.pyplot as plt\n",
    "import cv2\n",
    "import keras.utils\n",
    "import os\n",
    "import glob\n",
    "import torch\n",
    "import torchvision\n",
    "from torchvision import models,transforms,datasets\n",
    "import torch.nn as nn\n",
    "import torch.nn.functional as F\n",
    "import pickle\n",
    "\n",
    "%matplotlib inline"
   ]
  },
  {
   "cell_type": "markdown",
   "metadata": {},
   "source": [
    "## Reading data"
   ]
  },
  {
   "cell_type": "code",
   "execution_count": 34,
   "metadata": {
    "collapsed": true
   },
   "outputs": [],
   "source": [
    "data_dir = '../../data_quick_draw/'\n",
    "model_dir = '../output/model/'\n",
    "mapping_dir = '../output/mapping/'\n",
    "results_dir = '../output/results/'"
   ]
  },
  {
   "cell_type": "code",
   "execution_count": 3,
   "metadata": {
    "collapsed": false
   },
   "outputs": [],
   "source": [
    "axe = pd.read_csv(os.path.join(data_dir, 'axe.csv'), \n",
    "                  index_col='key_id', \n",
    "                  nrows=100).drop(['countrycode', 'recognized', 'timestamp'], axis=1)"
   ]
  },
  {
   "cell_type": "code",
   "execution_count": 4,
   "metadata": {
    "collapsed": false
   },
   "outputs": [],
   "source": [
    "axe.drawing = axe.drawing.map(ast.literal_eval)"
   ]
  },
  {
   "cell_type": "code",
   "execution_count": 5,
   "metadata": {
    "collapsed": false
   },
   "outputs": [],
   "source": [
    "first_ten_ids = axe.iloc[:5].index\n",
    "axe_images = axe.loc[first_ten_ids, 'drawing']"
   ]
  },
  {
   "cell_type": "code",
   "execution_count": 6,
   "metadata": {
    "collapsed": false,
    "scrolled": false
   },
   "outputs": [
    {
     "data": {
      "image/png": "[encoded data removed]",
      "text/plain": [
       "<matplotlib.figure.Figure at 0x102701be0>"
      ]
     },
     "metadata": {},
     "output_type": "display_data"
    },
    {
     "data": {
      "image/png": "[encoded data removed]",
      "text/plain": [
       "<matplotlib.figure.Figure at 0x120769f98>"
      ]
     },
     "metadata": {},
     "output_type": "display_data"
    },
    {
     "data": {
      "image/png": "[encoded data removed]",
      "text/plain": [
       "<matplotlib.figure.Figure at 0x120dbae48>"
      ]
     },
     "metadata": {},
     "output_type": "display_data"
    },
    {
     "data": {
      "image/png": "[encoded data removed]",
      "text/plain": [
       "<matplotlib.figure.Figure at 0x124122e80>"
      ]
     },
     "metadata": {},
     "output_type": "display_data"
    },
    {
     "data": {
      "image/png": "[encoded data removed]",
      "text/plain": [
       "<matplotlib.figure.Figure at 0x1241bda90>"
      ]
     },
     "metadata": {},
     "output_type": "display_data"
    }
   ],
   "source": [
    "for index, axe_drawing in enumerate(axe_images, 0):\n",
    "    \n",
    "    plt.figure(figsize=(6,3))\n",
    "\n",
    "    for x,y in axe_drawing:\n",
    "        plt.plot(x, y, marker='.', color='black')\n",
    "        plt.axis('off')\n",
    "\n",
    "    plt.gca().invert_yaxis()\n",
    "    plt.axis('equal')\n",
    "    plt.show()  "
   ]
  },
  {
   "cell_type": "markdown",
   "metadata": {},
   "source": [
    "## Transforming data : from strokes to image"
   ]
  },
  {
   "cell_type": "code",
   "execution_count": 7,
   "metadata": {
    "collapsed": true
   },
   "outputs": [],
   "source": [
    "BASE_SIZE = 256\n",
    "\n",
    "def draw_cv2(raw_strokes, size=256, lw=6):\n",
    "    img = np.zeros((BASE_SIZE, BASE_SIZE), np.uint8)\n",
    "    for stroke in raw_strokes:\n",
    "        for i in range(len(stroke[0]) - 1):\n",
    "            _ = cv2.line(img, (stroke[0][i], stroke[1][i]), (stroke[0][i + 1], stroke[1][i + 1]), 255, lw)\n",
    "    if size != BASE_SIZE:\n",
    "        return cv2.resize(img, (size, size))\n",
    "    else:\n",
    "        return img"
   ]
  },
  {
   "cell_type": "code",
   "execution_count": 13,
   "metadata": {
    "collapsed": false
   },
   "outputs": [
    {
     "data": {
      "image/png": "[encoded data removed]",
      "text/plain": [
       "<matplotlib.figure.Figure at 0x1245decc0>"
      ]
     },
     "metadata": {},
     "output_type": "display_data"
    }
   ],
   "source": [
    "axe_strokes = axe.loc[axe.index[0], 'drawing']\n",
    "img = draw_cv2(axe_strokes)\n",
    "\n",
    "plt.imshow(img, cmap=plt.cm.gray)\n",
    "plt.axis('off')\n",
    "plt.show()"
   ]
  },
  {
   "cell_type": "code",
   "execution_count": 14,
   "metadata": {
    "collapsed": true
   },
   "outputs": [],
   "source": [
    "def df_to_image_array(df, size, lw=6):\n",
    "    x = np.zeros((len(df), size, size))\n",
    "    for i, raw_strokes in enumerate(df.drawing.values):\n",
    "        x[i] = draw_cv2(raw_strokes, size=size, lw=lw)\n",
    "    x = x / 255.\n",
    "    x = x.reshape((len(df), size, size)).astype(np.float32)\n",
    "    return x"
   ]
  },
  {
   "cell_type": "markdown",
   "metadata": {},
   "source": [
    "## Building our train and test functions"
   ]
  },
  {
   "cell_type": "markdown",
   "metadata": {},
   "source": [
    "We will first design our train and test functions. These functions can be used directly to train and test all the classification problems and all the architectures we will define in the whole notebook."
   ]
  },
  {
   "cell_type": "code",
   "execution_count": 15,
   "metadata": {
    "collapsed": true
   },
   "outputs": [],
   "source": [
    "use_gpu = torch.cuda.is_available()"
   ]
  },
  {
   "cell_type": "code",
   "execution_count": 16,
   "metadata": {
    "collapsed": true
   },
   "outputs": [],
   "source": [
    "def train(model,data_loader,loss_fn,optimizer,n_epochs=1):\n",
    "    \n",
    "    model.train(True)\n",
    "    if use_gpu:\n",
    "        model.cuda()\n",
    "    \n",
    "    loss_train = np.zeros(n_epochs)\n",
    "    acc_train = np.zeros(n_epochs)\n",
    "    \n",
    "    for epoch_num in range(n_epochs):\n",
    "        running_corrects = 0.0\n",
    "        running_loss = 0.0\n",
    "        size = 0\n",
    "\n",
    "        for data in data_loader:\n",
    "            inputs, labels = data\n",
    "            bs = labels.size(0)\n",
    "            \n",
    "            if use_gpu:\n",
    "                inputs = inputs.cuda()\n",
    "                labels = labels.cuda()\n",
    "        \n",
    "            outputs = model(inputs)        \n",
    "            loss = loss_fn(outputs, labels)\n",
    "            \n",
    "            optimizer.zero_grad()\n",
    "            loss.backward()\n",
    "            optimizer.step()\n",
    "            \n",
    "            _, preds = torch.max(outputs, 1)\n",
    "            running_corrects += torch.sum(preds == labels)\n",
    "            running_loss += loss.data\n",
    "            \n",
    "            size += bs\n",
    "        \n",
    "        epoch_loss = running_loss / size\n",
    "        epoch_acc = running_corrects.item() / size\n",
    "        loss_train[epoch_num] = epoch_loss\n",
    "        acc_train[epoch_num] = epoch_acc\n",
    "        print('Train - Loss: {:.4f} Acc: {:.4f}'.format(epoch_loss, epoch_acc))\n",
    "        \n",
    "    return loss_train, acc_train"
   ]
  },
  {
   "cell_type": "code",
   "execution_count": 17,
   "metadata": {
    "collapsed": true
   },
   "outputs": [],
   "source": [
    "def test(model,data_loader):\n",
    "    model.train(False)\n",
    "\n",
    "    running_corrects = 0.0\n",
    "    running_loss = 0.0\n",
    "    size = 0\n",
    "\n",
    "    for data in data_loader:\n",
    "        inputs, labels = data    \n",
    "        bs = labels.size(0)\n",
    "        \n",
    "        if use_gpu:\n",
    "            inputs = inputs.cuda()\n",
    "            labels = labels.cuda()\n",
    "        \n",
    "        outputs = model(inputs)        \n",
    "        loss = loss_fn(outputs, labels)\n",
    "\n",
    "        _, preds = torch.max(outputs, 1)\n",
    "        running_corrects += torch.sum(preds == labels)\n",
    "        running_loss += loss.data\n",
    "         \n",
    "        size += bs\n",
    "\n",
    "    print('Test - Loss: {:.4f} Acc: {:.4f}'.format(running_loss / size, running_corrects.item() / size))"
   ]
  },
  {
   "cell_type": "code",
   "execution_count": 35,
   "metadata": {
    "collapsed": true
   },
   "outputs": [],
   "source": [
    "def test_results(model,data_loader):\n",
    "    model.train(False)\n",
    "\n",
    "    running_corrects = 0.0\n",
    "    running_loss = 0.0\n",
    "    size = 0\n",
    "    all_preds = []\n",
    "    all_labels = []\n",
    "\n",
    "    for data in data_loader:\n",
    "        inputs, labels = data    \n",
    "        bs = labels.size(0)\n",
    "        \n",
    "        if use_gpu:\n",
    "            inputs = inputs.cuda()\n",
    "            labels = labels.cuda()\n",
    "        \n",
    "        outputs = model(inputs)        \n",
    "        loss = loss_fn(outputs, labels)\n",
    "\n",
    "        _, preds = torch.max(outputs, 1)\n",
    "        running_corrects += torch.sum(preds == labels)\n",
    "        running_loss += loss.data\n",
    "        \n",
    "        preds = preds.cpu()\n",
    "        labels = labels.cpu()\n",
    "        \n",
    "        all_preds = np.append(all_preds, preds.numpy())\n",
    "        all_labels = np.append(all_labels, labels.numpy())\n",
    "         \n",
    "        size += bs\n",
    "        \n",
    "    return all_preds, all_labels\n",
    "\n",
    "    print('Test - Loss: {:.4f} Acc: {:.4f}'.format(running_loss / size, running_corrects.item() / size))"
   ]
  },
  {
   "cell_type": "code",
   "execution_count": 36,
   "metadata": {
    "collapsed": true
   },
   "outputs": [],
   "source": [
    "def get_results(model, test_loader):\n",
    "    model.eval()\n",
    "\n",
    "    all_preds, all_labels = test_results(model,test_loader)\n",
    "\n",
    "    result_dic = {}\n",
    "    for key, value in mapping.items():\n",
    "        pred_of_class = all_preds[(all_labels == value)]\n",
    "        rate = sum(pred_of_class == value)/len(pred_of_class)\n",
    "        result_dic[key] = rate\n",
    "    \n",
    "    return result_dic"
   ]
  },
  {
   "cell_type": "markdown",
   "metadata": {},
   "source": [
    "Now the architectures of the train and the test functions are ready. The only things we will need to change from now on will be the classifier function and the training and testing datasets. "
   ]
  },
  {
   "cell_type": "markdown",
   "metadata": {},
   "source": [
    "## Beginning with a multi-class classification problem : Axes, Ladders and Dolphins"
   ]
  },
  {
   "cell_type": "code",
   "execution_count": 21,
   "metadata": {
    "collapsed": false
   },
   "outputs": [],
   "source": [
    "axe = pd.read_csv(os.path.join(data_dir, 'axe.csv'),\n",
    "                  index_col='key_id', \n",
    "                  nrows=1000).drop(['countrycode', 'recognized', 'timestamp'], axis=1)\n",
    "ladder = pd.read_csv(os.path.join(data_dir, 'ladder.csv'),\n",
    "                     index_col='key_id', \n",
    "                     nrows=1000).drop(['countrycode', 'recognized', 'timestamp'], axis=1)\n",
    "dolphin = pd.read_csv(os.path.join(data_dir, 'dolphin.csv'),\n",
    "                     index_col='key_id', \n",
    "                      nrows=1000).drop(['countrycode', 'recognized', 'timestamp'], axis=1)\n",
    "\n",
    "df_train = pd.concat([axe[:800], ladder[:800], dolphin[:800]], axis=0)\n",
    "df_test = pd.concat([axe[800:], ladder[800:], dolphin[800:]], axis=0)\n",
    "\n",
    "df_train.drawing = df_train.drawing.map(ast.literal_eval)\n",
    "df_test.drawing = df_test.drawing.map(ast.literal_eval)\n",
    "\n",
    "mapping = {'axe' : 0, \n",
    "           'ladder' : 1, \n",
    "           'dolphin' : 2}\n",
    "\n",
    "df_train.y = df_train.word.replace(mapping)\n",
    "df_test.y = df_test.word.replace(mapping)"
   ]
  },
  {
   "cell_type": "code",
   "execution_count": 23,
   "metadata": {
    "collapsed": false
   },
   "outputs": [
    {
     "name": "stdout",
     "output_type": "stream",
     "text": [
      "(2400, 256, 256)\n",
      "(2400,)\n",
      "(600, 256, 256)\n",
      "(600,)\n"
     ]
    }
   ],
   "source": [
    "x_train = df_to_image_array(df=df_train, size=256)\n",
    "y_train = df_train.y\n",
    "\n",
    "x_test = df_to_image_array(df=df_test, size=256)\n",
    "y_test = df_test.y\n",
    "\n",
    "print(x_train.shape)\n",
    "print(y_train.shape)\n",
    "print(x_test.shape)\n",
    "print(y_test.shape)"
   ]
  },
  {
   "cell_type": "code",
   "execution_count": 24,
   "metadata": {
    "collapsed": false
   },
   "outputs": [],
   "source": [
    "bs = 64 \n",
    "kwargs = {'num_workers': 1, 'pin_memory': True} if use_gpu else {}\n",
    "\n",
    "train_dataset = [[torch.from_numpy(e.astype(np.float32)).unsqueeze(0), \n",
    "                   torch.from_numpy(np.array(l).astype(np.int64))] for e, l in zip(x_train, y_train)]\n",
    "test_dataset = [[torch.from_numpy(e.astype(np.float32)).unsqueeze(0), \n",
    "                   torch.from_numpy(np.array(l).astype(np.int64))] for e, l in zip(x_test, y_test)]\n",
    "\n",
    "train_loader = torch.utils.data.DataLoader(train_dataset, batch_size=bs, shuffle=True, **kwargs)\n",
    "test_loader = torch.utils.data.DataLoader(test_dataset, batch_size=bs, shuffle=True, **kwargs)"
   ]
  },
  {
   "cell_type": "markdown",
   "metadata": {},
   "source": [
    "Building an very simple classifier with one Conv 2D Layer, one Max Pooling Layer and an activation function. "
   ]
  },
  {
   "cell_type": "code",
   "execution_count": 27,
   "metadata": {
    "collapsed": false
   },
   "outputs": [],
   "source": [
    "class simple_classifier(nn.Module):\n",
    "    \n",
    "    def __init__(self):\n",
    "        super(simple_classifier, self).__init__()\n",
    "        self.conv1 = nn.Conv2d(in_channels=1, out_channels=4, kernel_size=3, padding=1)\n",
    "        self.fc = nn.Linear(in_features=4096, out_features=3)\n",
    "        \n",
    "    def forward(self,x):\n",
    "        batch_size = x.shape[0]\n",
    "        x = self.conv1(x)\n",
    "        x = F.max_pool2d(x, kernel_size=8, stride=8)\n",
    "        x = x.reshape(batch_size,4096)\n",
    "        x = self.fc(x)\n",
    "        x = F.log_softmax(x)\n",
    "        return x"
   ]
  },
  {
   "cell_type": "code",
   "execution_count": 28,
   "metadata": {
    "collapsed": false
   },
   "outputs": [
    {
     "name": "stderr",
     "output_type": "stream",
     "text": [
      "/Users/samimhirech/anaconda/lib/python3.6/site-packages/torch/nn/functional.py:52: UserWarning: size_average and reduce args will be deprecated, please use reduction='sum' instead.\n",
      "  warnings.warn(warning.format(ret))\n",
      "/Users/samimhirech/anaconda/lib/python3.6/site-packages/ipykernel/__main__.py:14: UserWarning: Implicit dimension choice for log_softmax has been deprecated. Change the call to include dim=X as an argument.\n"
     ]
    },
    {
     "name": "stdout",
     "output_type": "stream",
     "text": [
      "Train - Loss: 0.5661 Acc: 0.7812\n",
      "Train - Loss: 0.3886 Acc: 0.8654\n",
      "Train - Loss: 0.3546 Acc: 0.8829\n",
      "Train - Loss: 0.3290 Acc: 0.8950\n",
      "Train - Loss: 0.3121 Acc: 0.8979\n"
     ]
    }
   ],
   "source": [
    "conv_class = simple_classifier()\n",
    "loss_fn = nn.NLLLoss(size_average=False)\n",
    "learning_rate = 1e-3\n",
    "optimizer_cl = torch.optim.SGD(conv_class.parameters(), lr=learning_rate)\n",
    "l_t, a_t = train(conv_class,train_loader,loss_fn,optimizer_cl,n_epochs = 5)"
   ]
  },
  {
   "cell_type": "code",
   "execution_count": 29,
   "metadata": {
    "collapsed": false
   },
   "outputs": [
    {
     "name": "stderr",
     "output_type": "stream",
     "text": [
      "/Users/samimhirech/anaconda/lib/python3.6/site-packages/ipykernel/__main__.py:14: UserWarning: Implicit dimension choice for log_softmax has been deprecated. Change the call to include dim=X as an argument.\n"
     ]
    },
    {
     "name": "stdout",
     "output_type": "stream",
     "text": [
      "Test - Loss: 0.5622 Acc: 0.8183\n"
     ]
    }
   ],
   "source": [
    "test(conv_class,test_loader)"
   ]
  },
  {
   "cell_type": "code",
   "execution_count": 33,
   "metadata": {
    "collapsed": false
   },
   "outputs": [
    {
     "name": "stderr",
     "output_type": "stream",
     "text": [
      "/Users/samimhirech/anaconda/lib/python3.6/site-packages/torch/serialization.py:241: UserWarning: Couldn't retrieve source code for container of type simple_classifier. It won't be checked for correctness upon loading.\n",
      "  \"type \" + obj.__name__ + \". It won't be checked \"\n"
     ]
    }
   ],
   "source": [
    "torch.save(conv_class, os.path.join(output_dir, 'model_3_1000.pt'))\n",
    "pickle.dump(mapping, open(os.path.join(output_dir,'map_3_1000.pickle'), 'wb'))"
   ]
  },
  {
   "cell_type": "code",
   "execution_count": 39,
   "metadata": {
    "collapsed": false
   },
   "outputs": [
    {
     "name": "stderr",
     "output_type": "stream",
     "text": [
      "/Users/samimhirech/anaconda/lib/python3.6/site-packages/ipykernel/__main__.py:14: UserWarning: Implicit dimension choice for log_softmax has been deprecated. Change the call to include dim=X as an argument.\n"
     ]
    }
   ],
   "source": [
    "results = get_results(conv_class, test_loader)\n",
    "pickle.dump(results, open(os.path.join(results_dir,'results_3_1000.pickle'), 'wb'))"
   ]
  },
  {
   "cell_type": "markdown",
   "metadata": {
    "collapsed": true
   },
   "source": [
    "## Training for all csv files"
   ]
  },
  {
   "cell_type": "code",
   "execution_count": 42,
   "metadata": {
    "collapsed": false
   },
   "outputs": [],
   "source": [
    "data_files = glob.glob(data_dir + \"/*.csv\")\n",
    "train_list = []\n",
    "test_list = []\n",
    "\n",
    "whole_size = 500\n",
    "train_size = 460\n",
    "\n",
    "for file in data_files:\n",
    "    df = pd.read_csv(file, \n",
    "                     index_col='key_id', \n",
    "                     nrows=whole_size).drop(['countrycode', 'recognized', 'timestamp'], axis=1)\n",
    "    train_list.append(df[:train_size])\n",
    "    test_list.append(df[train_size:])\n",
    "\n",
    "df_train = pd.concat(train_list, axis=0)\n",
    "df_test = pd.concat(test_list, axis=0)\n",
    "\n",
    "df_train.drawing = df_train.drawing.map(ast.literal_eval)\n",
    "df_test.drawing = df_test.drawing.map(ast.literal_eval)\n",
    "\n",
    "mapping = {x.replace(data_dir,'')[:-4]:i for i, x in enumerate(data_files)}\n",
    "num_classes = len(mapping)\n",
    "\n",
    "df_train.y = df_train.word.replace(mapping)\n",
    "df_test.y = df_test.word.replace(mapping)"
   ]
  },
  {
   "cell_type": "code",
   "execution_count": null,
   "metadata": {
    "collapsed": false
   },
   "outputs": [],
   "source": [
    "x_train = df_to_image_array(df=df_train, size=96)\n",
    "y_train = df_train.y\n",
    "\n",
    "x_test = df_to_image_array(df=df_test, size=96)\n",
    "y_test = df_test.y\n",
    "\n",
    "print(x_train.shape)\n",
    "print(y_train.shape)\n",
    "print(x_test.shape)\n",
    "print(y_test.shape)"
   ]
  },
  {
   "cell_type": "code",
   "execution_count": null,
   "metadata": {
    "collapsed": true
   },
   "outputs": [],
   "source": [
    "bs = 64 \n",
    "kwargs = {'num_workers': 1, 'pin_memory': True} if use_gpu else {}\n",
    "\n",
    "train_dataset = [[torch.from_numpy(e.astype(np.float32)).unsqueeze(0), \n",
    "                   torch.from_numpy(np.array(l).astype(np.int64))] for e, l in zip(x_train, y_train)]\n",
    "test_dataset = [[torch.from_numpy(e.astype(np.float32)).unsqueeze(0), \n",
    "                   torch.from_numpy(np.array(l).astype(np.int64))] for e, l in zip(x_test, y_test)]\n",
    "\n",
    "train_loader = torch.utils.data.DataLoader(train_dataset, batch_size=bs, shuffle=True, **kwargs)\n",
    "test_loader = torch.utils.data.DataLoader(test_dataset, batch_size=bs, shuffle=True, **kwargs)"
   ]
  },
  {
   "cell_type": "code",
   "execution_count": null,
   "metadata": {
    "collapsed": false
   },
   "outputs": [],
   "source": [
    "class classifier_all(nn.Module):\n",
    "    \n",
    "    def __init__(self):\n",
    "        super(classifier_all, self).__init__()\n",
    "        self.conv1 = nn.Conv2d(in_channels=1, out_channels=4, kernel_size=3, padding=1)\n",
    "        self.fc = nn.Linear(in_features=576, out_features=num_classes)\n",
    "        \n",
    "    def forward(self,x):\n",
    "        batch_size = x.shape[0]\n",
    "        x = self.conv1(x)\n",
    "        x = F.max_pool2d(x, kernel_size=8, stride=8)\n",
    "        x = x.reshape(batch_size,576)\n",
    "        x = self.fc(x)\n",
    "        x = F.log_softmax(x)\n",
    "        return x\n",
    "\n",
    "\n",
    "use_gpu = torch.cuda.is_available()\n",
    "if use_gpu:\n",
    "    classifier = classifier.cuda()"
   ]
  },
  {
   "cell_type": "code",
   "execution_count": null,
   "metadata": {
    "collapsed": false
   },
   "outputs": [],
   "source": [
    "conv_class_all = classifier_all()\n",
    "loss_fn = nn.NLLLoss(size_average=False)\n",
    "learning_rate = 1e-3\n",
    "optimizer_cl = torch.optim.SGD(conv_class_all.parameters(), lr=learning_rate)\n",
    "l_t, a_t = train(conv_class_all,train_loader,loss_fn,optimizer_cl,n_epochs = 10)"
   ]
  },
  {
   "cell_type": "code",
   "execution_count": null,
   "metadata": {
    "collapsed": false
   },
   "outputs": [],
   "source": [
    "test(conv_class_all,test_loader)"
   ]
  },
  {
   "cell_type": "code",
   "execution_count": null,
   "metadata": {
    "collapsed": true
   },
   "outputs": [],
   "source": [
    "torch.save(conv_class_all, '../output/conv_all.pt')"
   ]
  },
  {
   "cell_type": "code",
   "execution_count": null,
   "metadata": {
    "collapsed": true
   },
   "outputs": [],
   "source": [
    "pickle.dump(mapping, open('../output/map_conv_all.pickle', 'wb'))"
   ]
  },
  {
   "cell_type": "markdown",
   "metadata": {},
   "source": [
    "## Training with customized ResNet 18 "
   ]
  },
  {
   "cell_type": "code",
   "execution_count": null,
   "metadata": {
    "collapsed": true
   },
   "outputs": [],
   "source": [
    "dir_path = '../../data_quick_draw/'\n",
    "files = glob.glob(dir_path + \"/*.csv\")\n",
    "train_list = []\n",
    "test_list = []\n",
    "\n",
    "whole_size = 500\n",
    "train_size = 460\n",
    "\n",
    "for file in files:\n",
    "    df = pd.read_csv(file, \n",
    "                     index_col='key_id', \n",
    "                     nrows=whole_size).drop(['countrycode', 'recognized', 'timestamp'], axis=1)\n",
    "    train_list.append(df[:train_size])\n",
    "    test_list.append(df[train_size:])\n",
    "\n",
    "df_train = pd.concat(train_list, axis=0)\n",
    "df_test = pd.concat(test_list, axis=0)\n",
    "\n",
    "df_train.drawing = df_train.drawing.map(ast.literal_eval)\n",
    "df_test.drawing = df_test.drawing.map(ast.literal_eval)\n",
    "\n",
    "mapping = {x.replace('../../data_quick_draw/','').replace(\" \",\"_\")[:-4]:i for i, x in enumerate(files)}\n",
    "num_classes = len(mapping)\n",
    "\n",
    "df_train.y = df_train.word.replace(mapping)\n",
    "df_test.y = df_test.word.replace(mapping)"
   ]
  },
  {
   "cell_type": "code",
   "execution_count": null,
   "metadata": {
    "collapsed": false
   },
   "outputs": [],
   "source": [
    "x_train = df_to_image_array(df=df_train, size=224)\n",
    "y_train = df_train.y\n",
    "\n",
    "x_test = df_to_image_array(df=df_test, size=224)\n",
    "y_test = df_test.y\n",
    "\n",
    "print(x_train.shape)\n",
    "print(y_train.shape)\n",
    "print(x_test.shape)\n",
    "print(y_test.shape)"
   ]
  },
  {
   "cell_type": "code",
   "execution_count": null,
   "metadata": {
    "collapsed": false
   },
   "outputs": [],
   "source": [
    "bs = 64 \n",
    "kwargs = {'num_workers': 1, 'pin_memory': True} if use_gpu else {}\n",
    "\n",
    "train_dataset = [[torch.from_numpy(e.astype(np.float32)).unsqueeze(0), \n",
    "                   torch.from_numpy(np.array(l).astype(np.int64))] for e, l in zip(x_train, y_train)]\n",
    "test_dataset = [[torch.from_numpy(e.astype(np.float32)).unsqueeze(0), \n",
    "                   torch.from_numpy(np.array(l).astype(np.int64))] for e, l in zip(x_test, y_test)]\n",
    "\n",
    "train_loader = torch.utils.data.DataLoader(train_dataset, batch_size=bs, shuffle=True, **kwargs)\n",
    "test_loader = torch.utils.data.DataLoader(test_dataset, batch_size=bs, shuffle=True, **kwargs)"
   ]
  },
  {
   "cell_type": "code",
   "execution_count": null,
   "metadata": {
    "collapsed": true
   },
   "outputs": [],
   "source": [
    "class classifier_resnet(nn.Module):\n",
    "    \n",
    "    def __init__(self):\n",
    "        super(classifier_resnet,self).__init__()\n",
    "        self.conv1 = nn.Conv2d(in_channels=1, out_channels=64, kernel_size=3, stride=2, padding=3)\n",
    "        # Downloading architecture of resnet18\n",
    "        self.resnet = models.resnet18(pretrained=False)\n",
    "        # Deleting last layer of resnet18 because it has out_features = 1000 by default (the 1000 classes of ImageNet)\n",
    "        self.base = nn.Sequential(*list(self.resnet.children())[1:-1])\n",
    "        # Adding FC layer\n",
    "        self.fc = nn.Linear(2048,num_classes)\n",
    "\n",
    "    def forward(self, x):\n",
    "        batch_size = x.shape[0]\n",
    "        x = self.conv1(x)\n",
    "        x = self.base(x)\n",
    "        x = x.reshape(batch_size, -1)\n",
    "        x = self.fc(x)\n",
    "        x = F.log_softmax(x)\n",
    "        return x"
   ]
  },
  {
   "cell_type": "code",
   "execution_count": null,
   "metadata": {
    "collapsed": false
   },
   "outputs": [],
   "source": [
    "resnet_model = classifier_resnet()\n",
    "loss_fn = nn.NLLLoss(size_average=False)\n",
    "learning_rate = 1e-3\n",
    "optimizer_cl = torch.optim.SGD(resnet_model.parameters(), lr=learning_rate)\n",
    "l_t, a_t = train(resnet_model,train_loader,loss_fn,optimizer_cl,n_epochs = 10)"
   ]
  },
  {
   "cell_type": "code",
   "execution_count": null,
   "metadata": {
    "collapsed": true
   },
   "outputs": [],
   "source": [
    "test(resnet_model,test_loader)"
   ]
  },
  {
   "cell_type": "code",
   "execution_count": null,
   "metadata": {
    "collapsed": true
   },
   "outputs": [],
   "source": [
    "torch.save(resnet_model, '../output/model_resnet.pt')"
   ]
  },
  {
   "cell_type": "code",
   "execution_count": null,
   "metadata": {
    "collapsed": true
   },
   "outputs": [],
   "source": [
    "pickle.dump(mapping, open('../output/map_resnet.pickle', 'wb'))"
   ]
  },
  {
   "cell_type": "markdown",
   "metadata": {},
   "source": [
    "## Training with architecture of a Kaggler"
   ]
  },
  {
   "cell_type": "code",
   "execution_count": null,
   "metadata": {
    "collapsed": true
   },
   "outputs": [],
   "source": [
    "dir_path = '../../data_quick_draw/'\n",
    "files = glob.glob(dir_path + \"/*.csv\")\n",
    "train_list = []\n",
    "test_list = []\n",
    "\n",
    "whole_size = 500\n",
    "train_size = 460\n",
    "\n",
    "for file in files:\n",
    "    df = pd.read_csv(file, \n",
    "                     index_col='key_id', \n",
    "                     nrows=whole_size).drop(['countrycode', 'recognized', 'timestamp'], axis=1)\n",
    "    train_list.append(df[:train_size])\n",
    "    test_list.append(df[train_size:])\n",
    "\n",
    "df_train = pd.concat(train_list, axis=0)\n",
    "df_test = pd.concat(test_list, axis=0)\n",
    "\n",
    "df_train.drawing = df_train.drawing.map(ast.literal_eval)\n",
    "df_test.drawing = df_test.drawing.map(ast.literal_eval)\n",
    "\n",
    "mapping = {x.replace('../../data_quick_draw/','').replace(\" \",\"_\")[:-4]:i for i, x in enumerate(files)}\n",
    "num_classes = len(mapping)\n",
    "\n",
    "df_train.y = df_train.word.replace(mapping)\n",
    "df_test.y = df_test.word.replace(mapping)"
   ]
  },
  {
   "cell_type": "code",
   "execution_count": null,
   "metadata": {
    "collapsed": false
   },
   "outputs": [],
   "source": [
    "x_train = df_to_image_array(df=df_train, size=32)\n",
    "y_train = df_train.y\n",
    "\n",
    "x_test = df_to_image_array(df=df_test, size=32)\n",
    "y_test = df_test.y\n",
    "\n",
    "print(x_train.shape)\n",
    "print(y_train.shape)\n",
    "print(x_test.shape)\n",
    "print(y_test.shape)"
   ]
  },
  {
   "cell_type": "code",
   "execution_count": null,
   "metadata": {
    "collapsed": true
   },
   "outputs": [],
   "source": [
    "bs = 64 \n",
    "kwargs = {'num_workers': 1, 'pin_memory': True} if use_gpu else {}\n",
    "\n",
    "train_dataset = [[torch.from_numpy(e.astype(np.float32)).unsqueeze(0), \n",
    "                   torch.from_numpy(np.array(l).astype(np.int64))] for e, l in zip(x_train, y_train)]\n",
    "test_dataset = [[torch.from_numpy(e.astype(np.float32)).unsqueeze(0), \n",
    "                   torch.from_numpy(np.array(l).astype(np.int64))] for e, l in zip(x_test, y_test)]\n",
    "\n",
    "train_loader = torch.utils.data.DataLoader(train_dataset, batch_size=bs, shuffle=True, **kwargs)\n",
    "test_loader = torch.utils.data.DataLoader(test_dataset, batch_size=bs, shuffle=True, **kwargs)"
   ]
  },
  {
   "cell_type": "code",
   "execution_count": null,
   "metadata": {
    "collapsed": true
   },
   "outputs": [],
   "source": [
    "class classifier_kaggle(nn.Module):\n",
    "    \n",
    "    def __init__(self):\n",
    "        super(classifier_kaggle,self).__init__()\n",
    "        self.conv1 = nn.Conv2d(in_channels=1, out_channels=128, kernel_size=3, padding=1)\n",
    "        self.conv2 = nn.Conv2d(in_channels=128, out_channels=64, kernel_size=3)\n",
    "        self.dense1 = nn.Linear(3136, 1024)\n",
    "        self.dense2 = nn.Linear(1024, num_classes)\n",
    "    def forward(self, x):\n",
    "        batch_size = x.shape[0]\n",
    "        x = self.conv1(x)\n",
    "        x = F.max_pool2d(x, kernel_size=2, stride=2)\n",
    "        x = self.conv2(x)\n",
    "        x = F.max_pool2d(x, kernel_size=2, stride=2)\n",
    "        x = x.reshape(batch_size, -1)\n",
    "        x = self.dense1(x)\n",
    "        x = F.relu(x)\n",
    "        x = self.dense2(x)\n",
    "        x = F.log_softmax(x)\n",
    "        return x"
   ]
  },
  {
   "cell_type": "code",
   "execution_count": null,
   "metadata": {
    "collapsed": false
   },
   "outputs": [],
   "source": [
    "kaggle_model = classifier_kaggle()\n",
    "loss_fn = nn.NLLLoss(size_average=False)\n",
    "learning_rate = 1e-3\n",
    "optimizer_cl = torch.optim.SGD(kaggle_model.parameters(), lr=learning_rate)\n",
    "l_t, a_t = train(kaggle_model,train_loader,loss_fn,optimizer_cl,n_epochs = 10)"
   ]
  },
  {
   "cell_type": "code",
   "execution_count": null,
   "metadata": {
    "collapsed": false
   },
   "outputs": [],
   "source": [
    "test(kaggle_model,test_loader)"
   ]
  },
  {
   "cell_type": "code",
   "execution_count": null,
   "metadata": {
    "collapsed": false
   },
   "outputs": [],
   "source": [
    "torch.save(kaggle_model, '../output/model_kaggle.pt')"
   ]
  },
  {
   "cell_type": "code",
   "execution_count": null,
   "metadata": {
    "collapsed": true
   },
   "outputs": [],
   "source": [
    "pickle.dump(mapping, open('../output/map_kaggle.pickle', 'wb'))"
   ]
  },
  {
   "cell_type": "markdown",
   "metadata": {},
   "source": [
    "## Finding results on test sets by label"
   ]
  },
  {
   "cell_type": "code",
   "execution_count": null,
   "metadata": {
    "collapsed": true
   },
   "outputs": [],
   "source": [
    "model.eval()\n",
    "\n",
    "all_preds, all_labels = test_results(model,test_loader)\n",
    "\n",
    "result_dic = {}\n",
    "for key, value in mapping.items():\n",
    "    pred_of_class = all_preds[(all_labels == value)]\n",
    "    rate = sum(pred_of_class == value)/len(pred_of_class)\n",
    "    result_dic[key] = rate\n",
    "\n",
    "pickle.dump(result_dic, open('/content/drive/My Drive/QuickDraw/output/results_340_2000.pickle', 'wb'))"
   ]
  },
  {
   "cell_type": "markdown",
   "metadata": {},
   "source": [
    "## Trainining models on GPU "
   ]
  },
  {
   "cell_type": "markdown",
   "metadata": {},
   "source": [
    "Since our dataset is composed of 50 million drawings and that we do not have any GPU on our computers, we have decided to train our models on Google Colaboratory and use their GPU. "
   ]
  },
  {
   "cell_type": "markdown",
   "metadata": {},
   "source": [
    "A part of our preprocessing is done with pandas, which stores the data on the RAM, so we were not able to load all the data on Google Colab since it proposes a limited RAM of 12.7 Go. So we tried different experiments and trainings to test the limits of Google Colab's RAM. "
   ]
  },
  {
   "cell_type": "markdown",
   "metadata": {},
   "source": [
    "### 20 labels and 20000 images by label"
   ]
  },
  {
   "cell_type": "markdown",
   "metadata": {},
   "source": [
    "- Training set : 20000 images by label\n",
    "- Testing set : 5000 images by label"
   ]
  },
  {
   "cell_type": "code",
   "execution_count": null,
   "metadata": {
    "collapsed": true
   },
   "outputs": [],
   "source": [
    "results = pickle.load(open('../output/results_20_25000.pickle', \"rb\"))"
   ]
  },
  {
   "cell_type": "code",
   "execution_count": null,
   "metadata": {
    "collapsed": true
   },
   "outputs": [],
   "source": [
    "results_df = pd.DataFrame(pd.Series(results)).reset_index()\n",
    "results_df.columns = ['label', 'perc']"
   ]
  },
  {
   "cell_type": "code",
   "execution_count": null,
   "metadata": {
    "collapsed": false
   },
   "outputs": [],
   "source": [
    "results_df.sort_values('perc', ascending=False)[:10]"
   ]
  },
  {
   "cell_type": "code",
   "execution_count": null,
   "metadata": {
    "collapsed": false
   },
   "outputs": [],
   "source": [
    "results_df.sort_values('perc')[:10]"
   ]
  },
  {
   "cell_type": "markdown",
   "metadata": {},
   "source": [
    "### 114 labels and 460 images by label"
   ]
  },
  {
   "cell_type": "markdown",
   "metadata": {},
   "source": [
    "- Training set : 460 images by label\n",
    "- Testing set : 40 images by label"
   ]
  },
  {
   "cell_type": "code",
   "execution_count": null,
   "metadata": {
    "collapsed": true
   },
   "outputs": [],
   "source": [
    "results = pickle.load(open('../output/results_114_500.pickle', \"rb\"))"
   ]
  },
  {
   "cell_type": "code",
   "execution_count": null,
   "metadata": {
    "collapsed": true
   },
   "outputs": [],
   "source": [
    "results_df = pd.DataFrame(pd.Series(results)).reset_index()\n",
    "results_df.columns = ['label', 'perc']"
   ]
  },
  {
   "cell_type": "code",
   "execution_count": null,
   "metadata": {
    "collapsed": false
   },
   "outputs": [],
   "source": [
    "results_df.sort_values('perc', ascending=False)[:10]"
   ]
  },
  {
   "cell_type": "code",
   "execution_count": null,
   "metadata": {
    "collapsed": false,
    "scrolled": true
   },
   "outputs": [],
   "source": [
    "results_df.sort_values('perc')[:10]"
   ]
  },
  {
   "cell_type": "markdown",
   "metadata": {},
   "source": [
    "### 114 labels and 3000 images "
   ]
  },
  {
   "cell_type": "markdown",
   "metadata": {},
   "source": [
    "- Training set : 3000 images by label\n",
    "- Testing set : 500 images by label"
   ]
  },
  {
   "cell_type": "code",
   "execution_count": null,
   "metadata": {
    "collapsed": true
   },
   "outputs": [],
   "source": [
    "results = pickle.load(open('../output/results_114_3500.pickle', \"rb\"))"
   ]
  },
  {
   "cell_type": "code",
   "execution_count": null,
   "metadata": {
    "collapsed": true
   },
   "outputs": [],
   "source": [
    "results_df = pd.DataFrame(pd.Series(results)).reset_index()\n",
    "results_df.columns = ['label', 'perc']"
   ]
  },
  {
   "cell_type": "code",
   "execution_count": null,
   "metadata": {
    "collapsed": false
   },
   "outputs": [],
   "source": [
    "results_df.sort_values('perc', ascending=False)[:10]"
   ]
  },
  {
   "cell_type": "code",
   "execution_count": null,
   "metadata": {
    "collapsed": false
   },
   "outputs": [],
   "source": [
    "results_df.sort_values('perc')[:10]"
   ]
  },
  {
   "cell_type": "markdown",
   "metadata": {},
   "source": [
    "### 340 labels and 800 images "
   ]
  },
  {
   "cell_type": "markdown",
   "metadata": {},
   "source": [
    "- Training set : 800 images by label\n",
    "- Testing set : 200 images by label"
   ]
  },
  {
   "cell_type": "code",
   "execution_count": null,
   "metadata": {
    "collapsed": false
   },
   "outputs": [],
   "source": [
    "results = pickle.load(open('../output/results_340_1000.pickle', \"rb\"))"
   ]
  },
  {
   "cell_type": "code",
   "execution_count": null,
   "metadata": {
    "collapsed": false
   },
   "outputs": [],
   "source": [
    "results_df = pd.DataFrame(pd.Series(results)).reset_index()\n",
    "results_df.columns = ['label', 'perc']"
   ]
  },
  {
   "cell_type": "code",
   "execution_count": null,
   "metadata": {
    "collapsed": false
   },
   "outputs": [],
   "source": [
    "results_df.sort_values('perc', ascending=False)[:10]"
   ]
  },
  {
   "cell_type": "code",
   "execution_count": null,
   "metadata": {
    "collapsed": false
   },
   "outputs": [],
   "source": [
    "results_df.sort_values('perc')[:10]"
   ]
  },
  {
   "cell_type": "markdown",
   "metadata": {},
   "source": [
    "### 340 labels and 1600 images "
   ]
  },
  {
   "cell_type": "markdown",
   "metadata": {},
   "source": [
    "- Training set : 1600 images by label\n",
    "- Testing set : 400 images by label"
   ]
  },
  {
   "cell_type": "code",
   "execution_count": null,
   "metadata": {
    "collapsed": true
   },
   "outputs": [],
   "source": [
    "loss = [2.8013, 1.9212, 1.6502, 1.4501, 1.2705, 1.0988, 0.9333, 0.7790, 0.6497, 0.5403]\n",
    "accuracy = [0.3895, 0.5487, 0.6040, 0.6459, 0.6829, 0.7200, 0.7561, 0.7918, 0.8200, 0.8459]"
   ]
  },
  {
   "cell_type": "code",
   "execution_count": null,
   "metadata": {
    "collapsed": false
   },
   "outputs": [],
   "source": [
    "plt.plot(np.arange(0,10), loss)\n",
    "plt.ylabel('NLLLoss')\n",
    "plt.xlabel('Epoch')"
   ]
  },
  {
   "cell_type": "code",
   "execution_count": null,
   "metadata": {
    "collapsed": false
   },
   "outputs": [],
   "source": [
    "plt.plot(np.arange(0,10), accuracy)\n",
    "plt.ylabel('Accuracy')\n",
    "plt.xlabel('Epoch')"
   ]
  },
  {
   "cell_type": "code",
   "execution_count": null,
   "metadata": {
    "collapsed": true
   },
   "outputs": [],
   "source": [
    "results = pickle.load(open('../output/results_340_2000.pickle', \"rb\"))"
   ]
  },
  {
   "cell_type": "code",
   "execution_count": null,
   "metadata": {
    "collapsed": true
   },
   "outputs": [],
   "source": [
    "results_df = pd.DataFrame(pd.Series(results)).reset_index()\n",
    "results_df.columns = ['label', 'perc']"
   ]
  },
  {
   "cell_type": "code",
   "execution_count": null,
   "metadata": {
    "collapsed": false
   },
   "outputs": [],
   "source": [
    "results_df.sort_values('perc', ascending=False)[:10]"
   ]
  },
  {
   "cell_type": "code",
   "execution_count": null,
   "metadata": {
    "collapsed": false,
    "scrolled": true
   },
   "outputs": [],
   "source": [
    "results_df.sort_values('perc')[:10]"
   ]
  },
  {
   "cell_type": "markdown",
   "metadata": {},
   "source": [
    "## Testing the model with one image "
   ]
  },
  {
   "cell_type": "code",
   "execution_count": null,
   "metadata": {
    "collapsed": false
   },
   "outputs": [],
   "source": [
    "ex_path = '../../data_quick_draw/dolphin.csv'\n",
    "\n",
    "ex_df = pd.read_csv(ex_path, index_col='key_id', nrows=3).drop(['countrycode', 'recognized', 'timestamp'], axis=1)\n",
    "\n",
    "ex_df.drawing = ex_df.drawing.map(ast.literal_eval)\n",
    "\n",
    "plt.imshow(draw_cv2(ex_df.loc[ex_df.index[1], 'drawing']))\n",
    "plt.show()"
   ]
  },
  {
   "cell_type": "code",
   "execution_count": null,
   "metadata": {
    "collapsed": true
   },
   "outputs": [],
   "source": [
    "mapping = pickle.load(open('/content/drive/My Drive/QuickDraw/output/map_340_2000.pickle', \"rb\"))"
   ]
  },
  {
   "cell_type": "code",
   "execution_count": null,
   "metadata": {
    "collapsed": true
   },
   "outputs": [],
   "source": [
    "ex_input = torch.from_numpy(draw_cv2(ex_strokes, size = 32).astype(np.float32)).unsqueeze(0)"
   ]
  },
  {
   "cell_type": "code",
   "execution_count": null,
   "metadata": {
    "collapsed": true
   },
   "outputs": [],
   "source": [
    "model(ex_input)"
   ]
  },
  {
   "cell_type": "markdown",
   "metadata": {},
   "source": [
    "To be continued ..."
   ]
  }
 ],
 "metadata": {
  "kernelspec": {
   "display_name": "Python 3",
   "language": "python",
   "name": "python3"
  },
  "language_info": {
   "codemirror_mode": {
    "name": "ipython",
    "version": 3
   },
   "file_extension": ".py",
   "mimetype": "text/x-python",
   "name": "python",
   "nbconvert_exporter": "python",
   "pygments_lexer": "ipython3",
   "version": "3.6.0"
  }
 },
 "nbformat": 4,
 "nbformat_minor": 2
}
