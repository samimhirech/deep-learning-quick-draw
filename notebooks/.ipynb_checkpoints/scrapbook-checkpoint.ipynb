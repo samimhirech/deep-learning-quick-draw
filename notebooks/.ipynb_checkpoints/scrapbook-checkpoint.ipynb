{
 "cells": [
  {
   "cell_type": "markdown",
   "metadata": {},
   "source": [
    "# Building a Neural Network to recognize Quick Draw doodles"
   ]
  },
  {
   "cell_type": "markdown",
   "metadata": {},
   "source": [
    "The general idea of this notebook will be to try and test the solutions provided by Google AI and other kagglers to the classification problem linked to the Quick Draw dataset."
   ]
  },
  {
   "cell_type": "markdown",
   "metadata": {},
   "source": [
    "## Google AI suggestion"
   ]
  },
  {
   "cell_type": "markdown",
   "metadata": {},
   "source": [
    "Building a Neural Network dataset introducting LSTM layers. Indeed, they want to take into account the notion of temporality by using layers that keep track of what happened before. They also do not want to use a Neural Network that would consider the input as an image by using 1D Convolutionnal Layers. It's worth a try ! "
   ]
  },
  {
   "cell_type": "markdown",
   "metadata": {},
   "source": [
    "Tutorial of Google AI's solution in Tensorflow right here : https://www.tensorflow.org/tutorials/sequences/recurrent_quickdraw"
   ]
  },
  {
   "cell_type": "markdown",
   "metadata": {},
   "source": [
    "## Considering the dataset as images only"
   ]
  },
  {
   "cell_type": "markdown",
   "metadata": {},
   "source": [
    "A simpler idea would consist in interpreting the vectors of coordinates of the dataset as images only. Thus, we could use classical Neural Networks architectures that would consist in a succession of 2D Convolutionnal Layers and Max Pooling Layers, ending with a Flatten Layer then a FC layer."
   ]
  },
  {
   "cell_type": "markdown",
   "metadata": {},
   "source": [
    "Exemple of such a solution in Tensorflow here : https://www.kaggle.com/gaborfodor/black-white-cnn-lb-0-75/notebook"
   ]
  },
  {
   "cell_type": "markdown",
   "metadata": {},
   "source": [
    "## Data Loading and Preprocessing"
   ]
  },
  {
   "cell_type": "code",
   "execution_count": 32,
   "metadata": {},
   "outputs": [],
   "source": [
    "import pandas as pd \n",
    "import numpy as np \n",
    "import ast\n",
    "import matplotlib.pyplot as plt\n",
    "import cv2\n",
    "%matplotlib inline\n",
    "import glob\n",
    "\n",
    "import torch\n",
    "import torch.utils.data\n",
    "import torchvision"
   ]
  },
  {
   "cell_type": "code",
   "execution_count": 2,
   "metadata": {},
   "outputs": [],
   "source": [
    "train_size = 80\n",
    "test_size = 20\n",
    "total_size = train_size + test_size"
   ]
  },
  {
   "cell_type": "code",
   "execution_count": 3,
   "metadata": {},
   "outputs": [],
   "source": [
    "path = '..\\\\data\\\\train_simplified' # use your path\n",
    "allFiles = glob.glob(path + \"\\\\*.csv\")\n",
    "frame = pd.DataFrame()\n",
    "trainlist_ = []\n",
    "testlist_ = []\n",
    "for file_ in allFiles:\n",
    "    df = pd.read_csv(file_,index_col='key_id',nrows=100).drop(['countrycode', 'recognized', 'timestamp'], axis=1)[:total_size]\n",
    "    trainlist_.append(df[:train_size])\n",
    "    testlist_.append(df[train_size:total_size])\n",
    "data_train = pd.concat(trainlist_)\n",
    "data_test = pd.concat(testlist_)"
   ]
  },
  {
   "cell_type": "code",
   "execution_count": 4,
   "metadata": {},
   "outputs": [],
   "source": [
    "data_train.drawing = data_train.drawing.map(ast.literal_eval)\n",
    "data_test.drawing = data_test.drawing.map(ast.literal_eval)"
   ]
  },
  {
   "cell_type": "code",
   "execution_count": 5,
   "metadata": {},
   "outputs": [],
   "source": [
    "partition = {'train':data_train, 'test':data_test}"
   ]
  },
  {
   "cell_type": "code",
   "execution_count": 25,
   "metadata": {},
   "outputs": [],
   "source": [
    "class Dataset(torch.utils.data.Dataset):\n",
    "    'Characterizes a dataset for PyTorch'\n",
    "    def __init__(self, data,  base_size = 256, size = None, lw = 6):\n",
    "        'Initialization'\n",
    "        self.lw = lw\n",
    "        if size == None:\n",
    "            self.size = base_size\n",
    "        self.base_size = base_size\n",
    "        self.data = data\n",
    "        self.labels = data.word\n",
    "        self.drawing = data.drawing\n",
    "\n",
    "    def draw_cv2(self, raw_strokes):\n",
    "        img = np.zeros((self.base_size, self.base_size), np.uint8)\n",
    "        for stroke in raw_strokes:\n",
    "            for i in range(len(stroke[0]) - 1):\n",
    "                _ = cv2.line(img, (stroke[0][i], stroke[1][i]), (stroke[0][i + 1], stroke[1][i + 1]), 255, self.lw)\n",
    "        if self.size != self.base_size:\n",
    "            return cv2.resize(img, (self.size, self.size))\n",
    "        else:\n",
    "            return img\n",
    "    \n",
    "    def __len__(self):\n",
    "        'Denotes the total number of samples'\n",
    "        return len(self.drawing)\n",
    "\n",
    "    def __getitem__(self, ind):\n",
    "        'Generates one sample of data'\n",
    "        # Select sample\n",
    "        key_id = self.data.index[ind]\n",
    "\n",
    "        # Load data and get label\n",
    "        raw_strokes = self.data.drawing[key_id]\n",
    "        X = torch.from_numpy(self.draw_cv2(raw_strokes))\n",
    "        y = self.labels[key_id]\n",
    "\n",
    "        return X, y"
   ]
  },
  {
   "cell_type": "code",
   "execution_count": 27,
   "metadata": {},
   "outputs": [],
   "source": [
    "train_set = Dataset(partition['train'])\n",
    "train_generator = torch.utils.data.DataLoader(train_set, batch_size=5, shuffle=True)\n",
    "\n",
    "test_set = Dataset(partition['test'])\n",
    "test_generator = torch.utils.data.DataLoader(test_set,  batch_size=5, shuffle=True)"
   ]
  },
  {
   "cell_type": "code",
   "execution_count": 28,
   "metadata": {},
   "outputs": [],
   "source": [
    "count = 1\n",
    "for data in train_generator:\n",
    "    if count == 1:\n",
    "        inputs_try,labels_try = data\n",
    "    count +=1"
   ]
  },
  {
   "cell_type": "code",
   "execution_count": 39,
   "metadata": {},
   "outputs": [
    {
     "data": {
      "text/plain": [
       "Text(0.5,1,'stethoscope')"
      ]
     },
     "execution_count": 39,
     "metadata": {},
     "output_type": "execute_result"
    },
    {
     "data": {
      "image/png": "[encoded data removed]",
      "text/plain": [
       "<Figure size 432x288 with 1 Axes>"
      ]
     },
     "metadata": {
      "needs_background": "light"
     },
     "output_type": "display_data"
    }
   ],
   "source": [
    "plt.imshow(inputs_try[0])\n",
    "plt.title(labels_try[0])"
   ]
  }
 ],
 "metadata": {
  "kernelspec": {
   "display_name": "Python 3",
   "language": "python",
   "name": "python3"
  },
  "language_info": {
   "codemirror_mode": {
    "name": "ipython",
    "version": 3
   },
   "file_extension": ".py",
   "mimetype": "text/x-python",
   "name": "python",
   "nbconvert_exporter": "python",
   "pygments_lexer": "ipython3",
   "version": "3.7.0"
  }
 },
 "nbformat": 4,
 "nbformat_minor": 2
}
